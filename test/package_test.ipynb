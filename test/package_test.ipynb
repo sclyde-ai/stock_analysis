{
 "cells": [
  {
   "cell_type": "code",
   "execution_count": 1,
   "id": "94dad320",
   "metadata": {},
   "outputs": [
    {
     "name": "stdout",
     "output_type": "stream",
     "text": [
      "Defaulting to user installation because normal site-packages is not writeable\n",
      "Requirement already satisfied: pandas in /home/sclyde/.local/lib/python3.8/site-packages (from -r requirements.txt (line 1)) (2.0.3)\n",
      "Requirement already satisfied: sqlalchemy in /home/sclyde/.local/lib/python3.8/site-packages (from -r requirements.txt (line 2)) (1.4.54)\n",
      "Requirement already satisfied: psycopg2-binary in /home/sclyde/.local/lib/python3.8/site-packages (from -r requirements.txt (line 3)) (2.9.10)\n",
      "Requirement already satisfied: python-dotenv in /home/sclyde/.local/lib/python3.8/site-packages (from -r requirements.txt (line 4)) (1.0.1)\n",
      "Requirement already satisfied: matplotlib in /home/sclyde/.local/lib/python3.8/site-packages (from -r requirements.txt (line 5)) (3.7.5)\n",
      "Requirement already satisfied: python-dateutil>=2.8.2 in /home/sclyde/.local/lib/python3.8/site-packages (from pandas->-r requirements.txt (line 1)) (2.9.0.post0)\n",
      "Requirement already satisfied: pytz>=2020.1 in /home/sclyde/.local/lib/python3.8/site-packages (from pandas->-r requirements.txt (line 1)) (2025.1)\n",
      "Requirement already satisfied: tzdata>=2022.1 in /home/sclyde/.local/lib/python3.8/site-packages (from pandas->-r requirements.txt (line 1)) (2025.1)\n",
      "Requirement already satisfied: numpy>=1.20.3 in /home/sclyde/.local/lib/python3.8/site-packages (from pandas->-r requirements.txt (line 1)) (1.24.3)\n",
      "Requirement already satisfied: greenlet!=0.4.17 in /home/sclyde/.local/lib/python3.8/site-packages (from sqlalchemy->-r requirements.txt (line 2)) (3.1.1)\n",
      "Requirement already satisfied: contourpy>=1.0.1 in /home/sclyde/.local/lib/python3.8/site-packages (from matplotlib->-r requirements.txt (line 5)) (1.1.1)\n",
      "Requirement already satisfied: cycler>=0.10 in /home/sclyde/.local/lib/python3.8/site-packages (from matplotlib->-r requirements.txt (line 5)) (0.12.1)\n",
      "Requirement already satisfied: fonttools>=4.22.0 in /home/sclyde/.local/lib/python3.8/site-packages (from matplotlib->-r requirements.txt (line 5)) (4.56.0)\n",
      "Requirement already satisfied: kiwisolver>=1.0.1 in /home/sclyde/.local/lib/python3.8/site-packages (from matplotlib->-r requirements.txt (line 5)) (1.4.7)\n",
      "Requirement already satisfied: packaging>=20.0 in /home/sclyde/.local/lib/python3.8/site-packages (from matplotlib->-r requirements.txt (line 5)) (24.2)\n",
      "Requirement already satisfied: pillow>=6.2.0 in /usr/lib/python3/dist-packages (from matplotlib->-r requirements.txt (line 5)) (7.0.0)\n",
      "Requirement already satisfied: pyparsing>=2.3.1 in /usr/lib/python3/dist-packages (from matplotlib->-r requirements.txt (line 5)) (2.4.6)\n",
      "Requirement already satisfied: importlib-resources>=3.2.0 in /home/sclyde/.local/lib/python3.8/site-packages (from matplotlib->-r requirements.txt (line 5)) (6.4.5)\n",
      "Requirement already satisfied: zipp>=3.1.0 in /home/sclyde/.local/lib/python3.8/site-packages (from importlib-resources>=3.2.0->matplotlib->-r requirements.txt (line 5)) (3.20.2)\n",
      "Requirement already satisfied: six>=1.5 in /usr/lib/python3/dist-packages (from python-dateutil>=2.8.2->pandas->-r requirements.txt (line 1)) (1.14.0)\n",
      "Note: you may need to restart the kernel to use updated packages.\n",
      "Database connected successfully.\n"
     ]
    }
   ],
   "source": [
    "%pip install -r requirements.txt\n",
    "# !docker compose -f ../docker-compose.yml up\n",
    "\n",
    "# scipy\n",
    "import pandas as pd\n",
    "import numpy as np\n",
    "import matplotlib.pyplot as plt\n",
    "\n",
    "# standard\n",
    "import os\n",
    "import sys\n",
    "import json\n",
    "\n",
    "# others\n",
    "from sqlalchemy import create_engine\n",
    "from dotenv import load_dotenv\n",
    "from pathlib import Path\n",
    "\n",
    "sys.path.append(str(Path.cwd().parent))\n",
    "\n",
    "# my lib\n",
    "from package.src.package.ticker import Tickers\n",
    "from package.src.package.stock import Stock"
   ]
  },
  {
   "cell_type": "code",
   "execution_count": 2,
   "id": "f5a9e037",
   "metadata": {},
   "outputs": [
    {
     "name": "stdout",
     "output_type": "stream",
     "text": [
      "['goog', 'aapl', 'meta', 'amzn', 'msft']\n",
      "1d\n",
      "['goog', 'aapl', 'meta', 'amzn', 'msft']\n",
      "goog\n",
      "Could not load data : name 'date_interval_list' is not defined\n",
      "aapl\n",
      "Could not load data : name 'date_interval_list' is not defined\n",
      "meta\n",
      "Could not load data : name 'date_interval_list' is not defined\n",
      "amzn\n",
      "Could not load data : name 'date_interval_list' is not defined\n",
      "msft\n",
      "Could not load data : name 'date_interval_list' is not defined\n",
      "{'goog': None, 'aapl': None, 'meta': None, 'amzn': None, 'msft': None}\n"
     ]
    },
    {
     "ename": "TypeError",
     "evalue": "'NoneType' object is not subscriptable",
     "output_type": "error",
     "traceback": [
      "\u001b[0;31m---------------------------------------------------------------------------\u001b[0m",
      "\u001b[0;31mTypeError\u001b[0m                                 Traceback (most recent call last)",
      "Cell \u001b[0;32mIn[2], line 1\u001b[0m\n\u001b[0;32m----> 1\u001b[0m \u001b[43mStock\u001b[49m\u001b[43m(\u001b[49m\u001b[43m)\u001b[49m\n",
      "File \u001b[0;32m~/home/project/stock_analysis/package/src/package/stock.py:31\u001b[0m, in \u001b[0;36mStock.__init__\u001b[0;34m(self, tickers, interval)\u001b[0m\n\u001b[1;32m     28\u001b[0m \u001b[38;5;28mself\u001b[39m\u001b[38;5;241m.\u001b[39mdata \u001b[38;5;241m=\u001b[39m \u001b[38;5;28mself\u001b[39m\u001b[38;5;241m.\u001b[39mget_all_stock_data()\n\u001b[1;32m     29\u001b[0m \u001b[38;5;28mprint\u001b[39m(\u001b[38;5;28mself\u001b[39m\u001b[38;5;241m.\u001b[39mdata)\n\u001b[0;32m---> 31\u001b[0m \u001b[38;5;28mself\u001b[39m\u001b[38;5;241m.\u001b[39mclose \u001b[38;5;241m=\u001b[39m \u001b[38;5;28;43mself\u001b[39;49m\u001b[38;5;241;43m.\u001b[39;49m\u001b[43mclose\u001b[49m\u001b[43m(\u001b[49m\u001b[43m)\u001b[49m\n\u001b[1;32m     32\u001b[0m \u001b[38;5;28mself\u001b[39m\u001b[38;5;241m.\u001b[39mopen \u001b[38;5;241m=\u001b[39m \u001b[38;5;28mself\u001b[39m\u001b[38;5;241m.\u001b[39mopen()\n\u001b[1;32m     33\u001b[0m \u001b[38;5;28mself\u001b[39m\u001b[38;5;241m.\u001b[39mhigh \u001b[38;5;241m=\u001b[39m \u001b[38;5;28mself\u001b[39m\u001b[38;5;241m.\u001b[39mhigh()\n",
      "File \u001b[0;32m~/home/project/stock_analysis/package/src/package/stock.py:130\u001b[0m, in \u001b[0;36mStock.close\u001b[0;34m(self)\u001b[0m\n\u001b[1;32m    128\u001b[0m df \u001b[38;5;241m=\u001b[39m pd\u001b[38;5;241m.\u001b[39mDataFrame()\n\u001b[1;32m    129\u001b[0m \u001b[38;5;28;01mfor\u001b[39;00m ticker \u001b[38;5;129;01min\u001b[39;00m \u001b[38;5;28mself\u001b[39m\u001b[38;5;241m.\u001b[39mtickers:\n\u001b[0;32m--> 130\u001b[0m     series \u001b[38;5;241m=\u001b[39m \u001b[38;5;28;43mself\u001b[39;49m\u001b[38;5;241;43m.\u001b[39;49m\u001b[43mdata\u001b[49m\u001b[43m[\u001b[49m\u001b[43mticker\u001b[49m\u001b[43m]\u001b[49m\u001b[43m[\u001b[49m\u001b[38;5;28;43mself\u001b[39;49m\u001b[38;5;241;43m.\u001b[39;49m\u001b[43minterval\u001b[49m\u001b[43m]\u001b[49m[\u001b[38;5;124m'\u001b[39m\u001b[38;5;124mClose\u001b[39m\u001b[38;5;124m'\u001b[39m]\n\u001b[1;32m    131\u001b[0m     series\u001b[38;5;241m.\u001b[39mname \u001b[38;5;241m=\u001b[39m ticker \n\u001b[1;32m    132\u001b[0m     df \u001b[38;5;241m=\u001b[39m df\u001b[38;5;241m.\u001b[39mjoin(series, how\u001b[38;5;241m=\u001b[39m\u001b[38;5;124m'\u001b[39m\u001b[38;5;124mouter\u001b[39m\u001b[38;5;124m'\u001b[39m)\n",
      "\u001b[0;31mTypeError\u001b[0m: 'NoneType' object is not subscriptable"
     ]
    }
   ],
   "source": [
    "Stock()"
   ]
  }
 ],
 "metadata": {
  "kernelspec": {
   "display_name": "Python 3",
   "language": "python",
   "name": "python3"
  },
  "language_info": {
   "codemirror_mode": {
    "name": "ipython",
    "version": 3
   },
   "file_extension": ".py",
   "mimetype": "text/x-python",
   "name": "python",
   "nbconvert_exporter": "python",
   "pygments_lexer": "ipython3",
   "version": "3.8.10"
  }
 },
 "nbformat": 4,
 "nbformat_minor": 5
}
