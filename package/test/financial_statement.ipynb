{
 "cells": [
  {
   "cell_type": "code",
   "execution_count": null,
   "id": "9762e515",
   "metadata": {},
   "outputs": [
    {
     "name": "stdout",
     "output_type": "stream",
     "text": [
      "Defaulting to user installation because normal site-packages is not writeable\n",
      "Requirement already satisfied: pandas in /home/sclyde/.local/lib/python3.8/site-packages (from -r requirements.txt (line 1)) (2.0.3)\n",
      "Requirement already satisfied: sqlalchemy in /home/sclyde/.local/lib/python3.8/site-packages (from -r requirements.txt (line 2)) (1.4.54)\n",
      "Requirement already satisfied: psycopg2-binary in /home/sclyde/.local/lib/python3.8/site-packages (from -r requirements.txt (line 3)) (2.9.10)\n",
      "Requirement already satisfied: python-dotenv in /home/sclyde/.local/lib/python3.8/site-packages (from -r requirements.txt (line 4)) (1.0.1)\n",
      "Requirement already satisfied: matplotlib in /home/sclyde/.local/lib/python3.8/site-packages (from -r requirements.txt (line 5)) (3.7.5)\n",
      "Requirement already satisfied: python-dateutil>=2.8.2 in /home/sclyde/.local/lib/python3.8/site-packages (from pandas->-r requirements.txt (line 1)) (2.9.0.post0)\n",
      "Requirement already satisfied: pytz>=2020.1 in /home/sclyde/.local/lib/python3.8/site-packages (from pandas->-r requirements.txt (line 1)) (2025.1)\n",
      "Requirement already satisfied: tzdata>=2022.1 in /home/sclyde/.local/lib/python3.8/site-packages (from pandas->-r requirements.txt (line 1)) (2025.1)\n",
      "Requirement already satisfied: numpy>=1.20.3 in /home/sclyde/.local/lib/python3.8/site-packages (from pandas->-r requirements.txt (line 1)) (1.24.3)\n",
      "Requirement already satisfied: greenlet!=0.4.17 in /home/sclyde/.local/lib/python3.8/site-packages (from sqlalchemy->-r requirements.txt (line 2)) (3.1.1)\n",
      "Requirement already satisfied: contourpy>=1.0.1 in /home/sclyde/.local/lib/python3.8/site-packages (from matplotlib->-r requirements.txt (line 5)) (1.1.1)\n",
      "Requirement already satisfied: cycler>=0.10 in /home/sclyde/.local/lib/python3.8/site-packages (from matplotlib->-r requirements.txt (line 5)) (0.12.1)\n",
      "Requirement already satisfied: fonttools>=4.22.0 in /home/sclyde/.local/lib/python3.8/site-packages (from matplotlib->-r requirements.txt (line 5)) (4.56.0)\n",
      "Requirement already satisfied: kiwisolver>=1.0.1 in /home/sclyde/.local/lib/python3.8/site-packages (from matplotlib->-r requirements.txt (line 5)) (1.4.7)\n",
      "Requirement already satisfied: packaging>=20.0 in /home/sclyde/.local/lib/python3.8/site-packages (from matplotlib->-r requirements.txt (line 5)) (24.2)\n",
      "Requirement already satisfied: pillow>=6.2.0 in /usr/lib/python3/dist-packages (from matplotlib->-r requirements.txt (line 5)) (7.0.0)\n",
      "Requirement already satisfied: pyparsing>=2.3.1 in /usr/lib/python3/dist-packages (from matplotlib->-r requirements.txt (line 5)) (2.4.6)\n",
      "Requirement already satisfied: importlib-resources>=3.2.0 in /home/sclyde/.local/lib/python3.8/site-packages (from matplotlib->-r requirements.txt (line 5)) (6.4.5)\n",
      "Requirement already satisfied: zipp>=3.1.0 in /home/sclyde/.local/lib/python3.8/site-packages (from importlib-resources>=3.2.0->matplotlib->-r requirements.txt (line 5)) (3.20.2)\n",
      "Requirement already satisfied: six>=1.5 in /usr/lib/python3/dist-packages (from python-dateutil>=2.8.2->pandas->-r requirements.txt (line 1)) (1.14.0)\n",
      "Note: you may need to restart the kernel to use updated packages.\n",
      "Database connected successfully.\n"
     ]
    }
   ],
   "source": [
    "%pip install -r requirements.txt\n",
    "# !docker compose -f ../docker-compose.yml up\n",
    "\n",
    "# standard\n",
    "import sys\n",
    "\n",
    "# others\n",
    "from pathlib import Path\n",
    "sys.path.append(str(Path.cwd().parent))\n",
    "\n",
    "# my lib\n",
    "from src.package.ticker import Tickers\n",
    "from src.package.financial_statement import FS"
   ]
  },
  {
   "cell_type": "code",
   "execution_count": 2,
   "id": "e9155d16",
   "metadata": {},
   "outputs": [
    {
     "ename": "AttributeError",
     "evalue": "'Fundamentals' object has no attribute 'get_all_data'",
     "output_type": "error",
     "traceback": [
      "\u001b[0;31m---------------------------------------------------------------------------\u001b[0m",
      "\u001b[0;31mAttributeError\u001b[0m                            Traceback (most recent call last)",
      "Cell \u001b[0;32mIn[2], line 1\u001b[0m\n\u001b[0;32m----> 1\u001b[0m \u001b[43mFundamentals\u001b[49m\u001b[43m(\u001b[49m\u001b[43m)\u001b[49m\n",
      "File \u001b[0;32m~/home/project/stock_analysis/package/src/package/fundamentals.py:18\u001b[0m, in \u001b[0;36mFundamentals.__init__\u001b[0;34m(self, tickers)\u001b[0m\n\u001b[1;32m     16\u001b[0m \u001b[38;5;28;01melse\u001b[39;00m:\n\u001b[1;32m     17\u001b[0m     \u001b[38;5;28msuper\u001b[39m()\u001b[38;5;241m.\u001b[39m\u001b[38;5;21m__init__\u001b[39m()\n\u001b[0;32m---> 18\u001b[0m \u001b[38;5;28mself\u001b[39m\u001b[38;5;241m.\u001b[39mBS \u001b[38;5;241m=\u001b[39m \u001b[38;5;28;43mself\u001b[39;49m\u001b[38;5;241;43m.\u001b[39;49m\u001b[43mget_all_data\u001b[49m(\u001b[38;5;124m\"\u001b[39m\u001b[38;5;124mbalance_sheet\u001b[39m\u001b[38;5;124m\"\u001b[39m)\n\u001b[1;32m     19\u001b[0m \u001b[38;5;28mself\u001b[39m\u001b[38;5;241m.\u001b[39mPL \u001b[38;5;241m=\u001b[39m \u001b[38;5;28mself\u001b[39m\u001b[38;5;241m.\u001b[39mget_all_data(\u001b[38;5;124m\"\u001b[39m\u001b[38;5;124mfinancials\u001b[39m\u001b[38;5;124m\"\u001b[39m)\n\u001b[1;32m     20\u001b[0m \u001b[38;5;28mself\u001b[39m\u001b[38;5;241m.\u001b[39m_metrics \u001b[38;5;241m=\u001b[39m \u001b[38;5;28;01mNone\u001b[39;00m\n",
      "\u001b[0;31mAttributeError\u001b[0m: 'Fundamentals' object has no attribute 'get_all_data'"
     ]
    }
   ],
   "source": [
    "Fundamentals()"
   ]
  }
 ],
 "metadata": {
  "kernelspec": {
   "display_name": "Python 3",
   "language": "python",
   "name": "python3"
  },
  "language_info": {
   "codemirror_mode": {
    "name": "ipython",
    "version": 3
   },
   "file_extension": ".py",
   "mimetype": "text/x-python",
   "name": "python",
   "nbconvert_exporter": "python",
   "pygments_lexer": "ipython3",
   "version": "3.8.10"
  }
 },
 "nbformat": 4,
 "nbformat_minor": 5
}
