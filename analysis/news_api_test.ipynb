{
 "cells": [
  {
   "cell_type": "code",
   "execution_count": 1,
   "id": "244c0cac",
   "metadata": {},
   "outputs": [
    {
     "name": "stdout",
     "output_type": "stream",
     "text": [
      "environ({'USER': 'sclyde', 'VSCODE_WSL_EXT_LOCATION': '/mnt/c/Users/satos/.vscode/extensions/ms-vscode-remote.remote-wsl-0.99.0', 'SHLVL': '1', 'HOME': '/home/sclyde', 'WSL_DISTRO_NAME': 'Ubuntu-20.04', 'WAYLAND_DISPLAY': 'wayland-0', 'LOGNAME': 'sclyde', 'NAME': 'Code', 'WSL_INTEROP': '/run/WSL/408_interop', 'PULSE_SERVER': 'unix:/mnt/wslg/PulseServer', '_': '/mnt/c/Users/satos/AppData/Local/Programs/Microsoft VS Code/bin/code', 'TERM': 'xterm-color', 'PATH': '/bin:/home/sclyde/.local/bin:/home/sclyde/.vscode-server/bin/6f17636121051a53c88d3e605c491d22af2ba755/bin/remote-cli:/usr/local/sbin:/usr/local/bin:/usr/sbin:/usr/bin:/sbin:/bin:/usr/games:/usr/local/games:/usr/lib/wsl/lib:/mnt/c/Program Files/WindowsApps/MicrosoftCorporationII.WindowsSubsystemForLinux_2.2.4.0_x64__8wekyb3d8bbwe:/mnt/c/WINDOWS/system32:/mnt/c/WINDOWS:/mnt/c/WINDOWS/System32/Wbem:/mnt/c/WINDOWS/System32/WindowsPowerShell/v1.0/:/mnt/c/WINDOWS/System32/OpenSSH/:/mnt/c/Program Files (x86)/Fujitsu/FJAgent/Core/bin:/mnt/c/Program Files/Git/cmd:/mnt/c/Program Files/Docker/Docker/resources/bin:/mnt/c/Program Files (x86)/Microsoft SQL Server/160/Tools/Binn/:/mnt/c/Program Files/Microsoft SQL Server/160/Tools/Binn/:/mnt/c/Program Files/Microsoft SQL Server/Client SDK/ODBC/170/Tools/Binn/:/mnt/c/Program Files/Microsoft SQL Server/160/DTS/Binn/:/mnt/c/Program Files/Vagrant/bin:/mnt/c/Program Files (x86)/Vagrant/bin:/mnt/c/Program Files/MATLAB/R2024b/bin:/mnt/c/Program Files/PowerShell/7-preview/preview:/mnt/c/Program Files/nodejs/:/mnt/c/Program Files/PowerShell/7/:/mnt/c/Program Files/MySQL/MySQL Server 5.7/bin/:/mnt/c/Users/satos/AppData/Local/Microsoft/WindowsApps:/mnt/c/Users/satos/AppData/Local/Programs/Microsoft VS Code/bin:/mnt/c/Users/satos/AppData/Local/GitHubDesktop/bin:/mnt/c/Users/satos/AppData/Local/Microsoft/WinGet/Packages/DenoLand.Deno_Microsoft.Winget.Source_8wekyb3d8bbwe:/mnt/c/Users/satos/AppData/Roaming/npm:/mnt/c/Users/satos/AppData/Local/Programs/cursor/resources/app/bin:/snap/bin:/home/sclyde/.vscode-server/bin/6f17636121051a53c88d3e605c491d22af2ba755/bin/remote-cli:/usr/local/sbin:/usr/local/bin:/usr/sbin:/usr/bin:/sbin:/bin:/usr/games:/usr/local/games:/usr/lib/wsl/lib:/mnt/c/Program Files/WindowsApps/MicrosoftCorporationII.WindowsSubsystemForLinux_2.2.4.0_x64__8wekyb3d8bbwe:/mnt/c/WINDOWS/system32:/mnt/c/WINDOWS:/mnt/c/WINDOWS/System32/Wbem:/mnt/c/WINDOWS/System32/WindowsPowerShell/v1.0/:/mnt/c/WINDOWS/System32/OpenSSH/:/mnt/c/Program Files (x86)/Fujitsu/FJAgent/Core/bin:/mnt/c/Program Files/Git/cmd:/mnt/c/Program Files/Docker/Docker/resources/bin:/mnt/c/Program Files (x86)/Microsoft SQL Server/160/Tools/Binn/:/mnt/c/Program Files/Microsoft SQL Server/160/Tools/Binn/:/mnt/c/Program Files/Microsoft SQL Server/Client SDK/ODBC/170/Tools/Binn/:/mnt/c/Program Files/Microsoft SQL Server/160/DTS/Binn/:/mnt/c/Program Files/Vagrant/bin:/mnt/c/Program Files (x86)/Vagrant/bin:/mnt/c/Program Files/MATLAB/R2024b/bin:/mnt/c/Program Files/PowerShell/7-preview/preview:/mnt/c/Program Files/nodejs/:/mnt/c/Program Files/PowerShell/7/:/mnt/c/Program Files/MySQL/MySQL Server 5.7/bin/:/mnt/c/Users/satos/AppData/Local/Microsoft/WindowsApps:/mnt/c/Users/satos/AppData/Local/Programs/Microsoft VS Code/bin:/mnt/c/Users/satos/AppData/Local/GitHubDesktop/bin:/mnt/c/Users/satos/AppData/Local/Microsoft/WinGet/Packages/DenoLand.Deno_Microsoft.Winget.Source_8wekyb3d8bbwe:/mnt/c/Users/satos/AppData/Roaming/npm:/mnt/c/Users/satos/AppData/Local/Programs/cursor/resources/app/bin:/snap/bin', 'XDG_RUNTIME_DIR': '/mnt/wslg/runtime-dir', 'DISPLAY': ':0', 'LANG': 'C.UTF-8', 'SHELL': '/bin/bash', 'PWD': '/mnt/c/Users/satos/AppData/Local/Programs/Microsoft VS Code', 'WSL2_GUI_APPS_ENABLED': '1', 'HOSTTYPE': 'x86_64', 'WSLENV': 'ELECTRON_RUN_AS_NODE/w:', 'VSCODE_CWD': '/mnt/c/Users/satos/AppData/Local/Programs/Microsoft VS Code', 'VSCODE_NLS_CONFIG': '{\"userLocale\":\"en\",\"osLocale\":\"en\",\"resolvedLanguage\":\"en\",\"defaultMessagesFile\":\"/home/sclyde/.vscode-server/bin/6f17636121051a53c88d3e605c491d22af2ba755/out/nls.messages.json\",\"locale\":\"en\",\"availableLanguages\":{}}', 'VSCODE_HANDLES_SIGPIPE': 'true', 'XDG_DATA_DIRS': '/usr/local/share:/usr/share:/var/lib/snapd/desktop', 'VSCODE_ESM_ENTRYPOINT': 'vs/workbench/api/node/extensionHostProcess', 'VSCODE_HANDLES_UNCAUGHT_ERRORS': 'true', 'MOTD_SHOWN': 'update-motd', 'ELECTRON_RUN_AS_NODE': '1', 'VSCODE_IPC_HOOK_CLI': '/mnt/wslg/runtime-dir/vscode-ipc-b26137f5-94aa-45e8-b37d-c53719f2eee3.sock', 'VSCODE_L10N_BUNDLE_LOCATION': '', 'LS_HOST_PROCESS_ARCHITECTURE': 'x64', 'APPLICATION_INSIGHTS_NO_STATSBEAT': 'true', 'POSTGRES_USER': 'user', 'POSTGRES_PASSWORD': 'password', 'POSTGRES_DB': 'postgres', 'PYDEVD_IPYTHON_COMPATIBLE_DEBUGGING': '1', 'PYTHONUNBUFFERED': '1', 'PYTHONIOENCODING': 'utf-8', 'PYTHON_FROZEN_MODULES': 'on', 'PYDEVD_USE_FRAME_EVAL': 'NO', 'CLICOLOR': '1', 'FORCE_COLOR': '1', 'CLICOLOR_FORCE': '1', 'PAGER': 'cat', 'GIT_PAGER': 'cat', 'MPLBACKEND': 'module://matplotlib_inline.backend_inline'})\n",
      "None\n"
     ]
    },
    {
     "ename": "AttributeError",
     "evalue": "'NoneType' object has no attribute 'replace'",
     "output_type": "error",
     "traceback": [
      "\u001b[0;31m---------------------------------------------------------------------------\u001b[0m",
      "\u001b[0;31mAttributeError\u001b[0m                            Traceback (most recent call last)",
      "Cell \u001b[0;32mIn[1], line 22\u001b[0m\n\u001b[1;32m     20\u001b[0m \u001b[38;5;28mprint\u001b[39m(os\u001b[38;5;241m.\u001b[39menviron)\n\u001b[1;32m     21\u001b[0m \u001b[38;5;28mprint\u001b[39m(os\u001b[38;5;241m.\u001b[39menviron\u001b[38;5;241m.\u001b[39mget(\u001b[38;5;124m\"\u001b[39m\u001b[38;5;124mDATABASE_URL\u001b[39m\u001b[38;5;124m\"\u001b[39m))\n\u001b[0;32m---> 22\u001b[0m DATABASE_URL \u001b[38;5;241m=\u001b[39m \u001b[43mos\u001b[49m\u001b[38;5;241;43m.\u001b[39;49m\u001b[43menviron\u001b[49m\u001b[38;5;241;43m.\u001b[39;49m\u001b[43mget\u001b[49m\u001b[43m(\u001b[49m\u001b[38;5;124;43m\"\u001b[39;49m\u001b[38;5;124;43mDATABASE_URL\u001b[39;49m\u001b[38;5;124;43m\"\u001b[39;49m\u001b[43m)\u001b[49m\u001b[38;5;241;43m.\u001b[39;49m\u001b[43mreplace\u001b[49m(\u001b[38;5;124m\"\u001b[39m\u001b[38;5;124mdb:5432\u001b[39m\u001b[38;5;124m\"\u001b[39m, \u001b[38;5;124m\"\u001b[39m\u001b[38;5;124mlocalhost:5434\u001b[39m\u001b[38;5;124m\"\u001b[39m)\n\u001b[1;32m     23\u001b[0m engine \u001b[38;5;241m=\u001b[39m create_engine(DATABASE_URL) \n\u001b[1;32m     24\u001b[0m \u001b[38;5;28mprint\u001b[39m(\u001b[38;5;124m\"\u001b[39m\u001b[38;5;124mSuccessfully connected to the database.\u001b[39m\u001b[38;5;124m\"\u001b[39m)\n",
      "\u001b[0;31mAttributeError\u001b[0m: 'NoneType' object has no attribute 'replace'"
     ]
    }
   ],
   "source": [
    "# scipy\n",
    "import pandas as pd\n",
    "import numpy as np\n",
    "import matplotlib.pyplot as plt\n",
    "\n",
    "# standard\n",
    "import os\n",
    "import json\n",
    "\n",
    "# others\n",
    "from sqlalchemy import create_engine\n",
    "from dotenv import load_dotenv\n",
    "\n",
    "# get parameter.json\n",
    "with open('../parameter.json', 'r', encoding='utf-8') as f:\n",
    "    json_string = f.read()\n",
    "    parameter = json.loads(json_string)\n",
    "\n",
    "load_dotenv(dotenv_path='../news_fetcher/.env')\n",
    "print(os.environ)\n",
    "print(os.environ.get(\"DATABASE_URL\"))\n",
    "DATABASE_URL = os.environ.get(\"DATABASE_URL\").replace(\"db:5432\", \"localhost:5434\")\n",
    "engine = create_engine(DATABASE_URL) \n",
    "print(\"Successfully connected to the database.\")\n",
    "\n",
    "data = pd.read_sql(f\"articles\", engine, index_col='Datetime')"
   ]
  }
 ],
 "metadata": {
  "kernelspec": {
   "display_name": "Python 3",
   "language": "python",
   "name": "python3"
  },
  "language_info": {
   "codemirror_mode": {
    "name": "ipython",
    "version": 3
   },
   "file_extension": ".py",
   "mimetype": "text/x-python",
   "name": "python",
   "nbconvert_exporter": "python",
   "pygments_lexer": "ipython3",
   "version": "3.8.10"
  }
 },
 "nbformat": 4,
 "nbformat_minor": 5
}
