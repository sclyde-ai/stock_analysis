{
 "cells": [
  {
   "cell_type": "code",
   "execution_count": null,
   "id": "ea86521a",
   "metadata": {},
   "outputs": [
    {
     "name": "stdout",
     "output_type": "stream",
     "text": [
      "Requirement already satisfied: pandas in /home/sclyde/.local/lib/python3.9/site-packages (from -r requirements.txt (line 1)) (2.3.0)\n",
      "Requirement already satisfied: sqlalchemy in /home/sclyde/.local/lib/python3.9/site-packages (from -r requirements.txt (line 2)) (2.0.43)\n",
      "Requirement already satisfied: psycopg2-binary in /home/sclyde/.local/lib/python3.9/site-packages (from -r requirements.txt (line 3)) (2.9.10)\n",
      "Requirement already satisfied: python-dotenv in /home/sclyde/.local/lib/python3.9/site-packages (from -r requirements.txt (line 4)) (1.1.1)\n",
      "Requirement already satisfied: matplotlib in /home/sclyde/.local/lib/python3.9/site-packages (from -r requirements.txt (line 5)) (3.9.4)\n",
      "Requirement already satisfied: tzdata>=2022.7 in /home/sclyde/.local/lib/python3.9/site-packages (from pandas->-r requirements.txt (line 1)) (2025.2)\n",
      "Requirement already satisfied: numpy>=1.22.4; python_version < \"3.11\" in /home/sclyde/.local/lib/python3.9/site-packages (from pandas->-r requirements.txt (line 1)) (2.0.2)\n",
      "Requirement already satisfied: pytz>=2020.1 in /home/sclyde/.local/lib/python3.9/site-packages (from pandas->-r requirements.txt (line 1)) (2025.2)\n",
      "Requirement already satisfied: python-dateutil>=2.8.2 in /home/sclyde/.local/lib/python3.9/site-packages (from pandas->-r requirements.txt (line 1)) (2.9.0.post0)\n",
      "Requirement already satisfied: typing-extensions>=4.6.0 in /home/sclyde/.local/lib/python3.9/site-packages (from sqlalchemy->-r requirements.txt (line 2)) (4.14.1)\n",
      "Requirement already satisfied: greenlet>=1; python_version < \"3.14\" and (platform_machine == \"aarch64\" or (platform_machine == \"ppc64le\" or (platform_machine == \"x86_64\" or (platform_machine == \"amd64\" or (platform_machine == \"AMD64\" or (platform_machine == \"win32\" or platform_machine == \"WIN32\")))))) in /home/sclyde/.local/lib/python3.9/site-packages (from sqlalchemy->-r requirements.txt (line 2)) (3.2.4)\n",
      "Requirement already satisfied: packaging>=20.0 in /usr/lib/python3/dist-packages (from matplotlib->-r requirements.txt (line 5)) (20.3)\n",
      "Requirement already satisfied: fonttools>=4.22.0 in /home/sclyde/.local/lib/python3.9/site-packages (from matplotlib->-r requirements.txt (line 5)) (4.58.5)\n",
      "Requirement already satisfied: kiwisolver>=1.3.1 in /home/sclyde/.local/lib/python3.9/site-packages (from matplotlib->-r requirements.txt (line 5)) (1.4.7)\n",
      "Requirement already satisfied: pillow>=8 in /home/sclyde/.local/lib/python3.9/site-packages (from matplotlib->-r requirements.txt (line 5)) (11.3.0)\n",
      "Requirement already satisfied: importlib-resources>=3.2.0; python_version < \"3.10\" in /home/sclyde/.local/lib/python3.9/site-packages (from matplotlib->-r requirements.txt (line 5)) (6.5.2)\n",
      "Requirement already satisfied: pyparsing>=2.3.1 in /usr/lib/python3/dist-packages (from matplotlib->-r requirements.txt (line 5)) (2.4.6)\n",
      "Requirement already satisfied: cycler>=0.10 in /home/sclyde/.local/lib/python3.9/site-packages (from matplotlib->-r requirements.txt (line 5)) (0.12.1)\n",
      "Requirement already satisfied: contourpy>=1.0.1 in /home/sclyde/.local/lib/python3.9/site-packages (from matplotlib->-r requirements.txt (line 5)) (1.3.0)\n",
      "Requirement already satisfied: six>=1.5 in /usr/lib/python3/dist-packages (from python-dateutil>=2.8.2->pandas->-r requirements.txt (line 1)) (1.14.0)\n",
      "Requirement already satisfied: zipp>=3.1.0; python_version < \"3.10\" in /home/sclyde/.local/lib/python3.9/site-packages (from importlib-resources>=3.2.0; python_version < \"3.10\"->matplotlib->-r requirements.txt (line 5)) (3.23.0)\n",
      "Note: you may need to restart the kernel to use updated packages.\n",
      "Fundamentals class instantiated for AAPL.\n"
     ]
    }
   ],
   "source": [
    "%load_ext autoreload\n",
    "%autoreload 2\n",
    "\n",
    "%pip install -r requirements.txt\n",
    "# !docker compose -f ../docker-compose.yml up\n",
    "\n",
    "# scipy\n",
    "import pandas as pd\n",
    "import numpy as np\n",
    "import matplotlib.pyplot as plt\n",
    "\n",
    "# standard\n",
    "import os\n",
    "import sys\n",
    "import json\n",
    "\n",
    "# others\n",
    "from sqlalchemy import create_engine\n",
    "from dotenv import load_dotenv\n",
    "from pathlib import Path\n",
    "\n",
    "sys.path.append(str(Path.cwd().parent))\n",
    "\n",
    "# my lib\n",
    "from library.src.library.fundamentals import Fundamentals\n",
    "\n",
    "load_dotenv(dotenv_path='../.env')\n",
    "\n",
    "# get parameter.json\n",
    "with open('../parameter.json', 'r', encoding='utf-8') as f:\n",
    "    json_string = f.read()\n",
    "    parameter = json.loads(json_string)\n",
    "\n",
    "fundamentals = Fundamentals(tickers=['AAPL'])\n",
    "print(\"Fundamentals class instantiated for AAPL.\")"
   ]
  },
  {
   "cell_type": "code",
   "execution_count": 12,
   "id": "f8a9b1c2",
   "metadata": {},
   "outputs": [
    {
     "ename": "AttributeError",
     "evalue": "'Fundamentals' object has no attribute 'metrics'",
     "output_type": "error",
     "traceback": [
      "\u001b[0;31m---------------------------------------------------------------------------\u001b[0m",
      "\u001b[0;31mAttributeError\u001b[0m                            Traceback (most recent call last)",
      "Cell \u001b[0;32mIn[12], line 2\u001b[0m\n\u001b[1;32m      1\u001b[0m \u001b[38;5;66;03m# Calculate all metrics using the FinancialMetrics class\u001b[39;00m\n\u001b[0;32m----> 2\u001b[0m all_metrics \u001b[38;5;241m=\u001b[39m \u001b[43mfundamentals\u001b[49m\u001b[38;5;241;43m.\u001b[39;49m\u001b[43mmetrics\u001b[49m\u001b[38;5;241m.\u001b[39mget_all_metrics(\u001b[38;5;124m'\u001b[39m\u001b[38;5;124mAAPL\u001b[39m\u001b[38;5;124m'\u001b[39m)\n\u001b[1;32m      4\u001b[0m \u001b[38;5;66;03m# For a more structured view, create a DataFrame\u001b[39;00m\n\u001b[1;32m      5\u001b[0m metrics_df \u001b[38;5;241m=\u001b[39m pd\u001b[38;5;241m.\u001b[39mDataFrame(all_metrics)\n",
      "\u001b[0;31mAttributeError\u001b[0m: 'Fundamentals' object has no attribute 'metrics'"
     ]
    }
   ],
   "source": [
    "# Calculate all metrics using the FinancialMetrics class\n",
    "all_metrics = fundamentals.metrics.get_all_metrics('AAPL')\n",
    "\n",
    "# For a more structured view, create a DataFrame\n",
    "metrics_df = pd.DataFrame(all_metrics)\n",
    "metrics_df"
   ]
  }
 ],
 "metadata": {
  "kernelspec": {
   "display_name": "Python 3",
   "language": "python",
   "name": "python3"
  },
  "language_info": {
   "codemirror_mode": {
    "name": "ipython",
    "version": 3
   },
   "file_extension": ".py",
   "mimetype": "text/x-python",
   "name": "python",
   "nbconvert_exporter": "python",
   "pygments_lexer": "ipython3",
   "version": "3.9.5"
  }
 },
 "nbformat": 4,
 "nbformat_minor": 5
}
